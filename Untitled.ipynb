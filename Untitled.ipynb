{
 "cells": [
  {
   "cell_type": "markdown",
   "id": "retired-great",
   "metadata": {
    "pycharm": {
     "name": "#%% md\n"
    }
   },
   "source": [
    "<h4 align=\"center\">CMPUT 466 &mdash; Machine Learning</h4>\n",
    "\n",
    "<h1 align=\"center\">NAIVE BAYES CLASSIFICATION IMPLEMENTATION</h1>\n",
    "\n",
    "<h3 align=\"center\">Danh Nguyen</h3>"
   ]
  },
  {
   "cell_type": "code",
   "execution_count": 112,
   "id": "equipped-pathology",
   "metadata": {},
   "outputs": [],
   "source": [
    "import numpy as np\n",
    "from sklearn.feature_extraction.text import CountVectorizer\n",
    "import time\n",
    "import matplotlib.pyplot as plt\n",
    "from sklearn.metrics import confusion_matrix\n",
    "import os\n",
    "import math\n",
    "from sklearn.metrics import accuracy_score"
   ]
  },
  {
   "cell_type": "markdown",
   "id": "departmental-rainbow",
   "metadata": {
    "pycharm": {
     "name": "#%% md\n"
    }
   },
   "source": [
    "<h4>1. Data processing</h4>"
   ]
  },
  {
   "cell_type": "markdown",
   "id": "genetic-sampling",
   "metadata": {},
   "source": [
    "Importing data from GitHub"
   ]
  },
  {
   "cell_type": "code",
   "execution_count": 2,
   "id": "black-merchant",
   "metadata": {},
   "outputs": [],
   "source": [
    "#os.system(\"git clone https://github.com/pseprivamirakbarnejad/cmput466566.git\") // Prevent multiple overwrite, uncomment to download"
   ]
  },
  {
   "cell_type": "markdown",
   "id": "entire-olympus",
   "metadata": {},
   "source": [
    "Reading data"
   ]
  },
  {
   "cell_type": "code",
   "execution_count": 3,
   "id": "subject-mystery",
   "metadata": {},
   "outputs": [],
   "source": [
    "with open('cmput466566/Assignment1/rt-polarity_utf8.neg', 'r') as f:\n",
    "    lines_neg = f.read().splitlines()\n",
    "\n",
    "with open('cmput466566/Assignment1/rt-polarity_utf8.pos', 'r') as f:\n",
    "    lines_pos = f.read().splitlines()"
   ]
  },
  {
   "cell_type": "markdown",
   "id": "dress-carolina",
   "metadata": {},
   "source": [
    "Get a glimpse of data"
   ]
  },
  {
   "cell_type": "code",
   "execution_count": 4,
   "id": "exclusive-setup",
   "metadata": {},
   "outputs": [
    {
     "data": {
      "text/plain": [
       "['simplistic , silly and tedious . ',\n",
       " \"it's so laddish and juvenile , only teenage boys could possibly find it funny . \",\n",
       " 'exploitative and largely devoid of the depth or sophistication that would make watching such a graphic treatment of the crimes bearable . ',\n",
       " '[garbus] discards the potential for pathological study , exhuming instead , the skewed melodrama of the circumstantial situation . ',\n",
       " 'a visually flashy but narratively opaque and emotionally vapid exercise in style and mystification . ']"
      ]
     },
     "execution_count": 4,
     "metadata": {},
     "output_type": "execute_result"
    }
   ],
   "source": [
    "lines_neg[0:5]"
   ]
  },
  {
   "cell_type": "markdown",
   "id": "wireless-fifteen",
   "metadata": {},
   "source": [
    "Train-Test split"
   ]
  },
  {
   "cell_type": "code",
   "execution_count": 5,
   "id": "chubby-census",
   "metadata": {},
   "outputs": [],
   "source": [
    "data_train = lines_neg[0:5000] + lines_pos[0:5000]\n",
    "data_test = lines_neg[5000:] + lines_pos[5000:]"
   ]
  },
  {
   "cell_type": "markdown",
   "id": "suffering-addition",
   "metadata": {},
   "source": [
    "Preparing the output vectors"
   ]
  },
  {
   "cell_type": "code",
   "execution_count": 6,
   "id": "pretty-northwest",
   "metadata": {},
   "outputs": [],
   "source": [
    "y_train = np.append(np.ones((1,5000)), (np.zeros((1,5000))))\n",
    "y_test = np.append(np.ones((1, len(lines_neg[5000:]))),\\\n",
    "                   np.zeros((1,len(lines_pos[5000:]))))"
   ]
  },
  {
   "cell_type": "code",
   "execution_count": 7,
   "id": "similar-squad",
   "metadata": {},
   "outputs": [
    {
     "name": "stdout",
     "output_type": "stream",
     "text": [
      "len(lines_pos) = 5331\n",
      "len(lines_neg) = 5331\n",
      "len(data_set) = 662\n",
      "len(data_train) = 10000\n"
     ]
    }
   ],
   "source": [
    "print(\"len(lines_pos) = {}\".format(len(lines_pos)))\n",
    "print(\"len(lines_neg) = {}\".format(len(lines_neg)))\n",
    "\n",
    "print(\"len(data_set) = {}\".format(len(data_test)))\n",
    "print(\"len(data_train) = {}\".format(len(data_train)))"
   ]
  },
  {
   "cell_type": "markdown",
   "id": "strong-offer",
   "metadata": {},
   "source": [
    "Vectorizing data"
   ]
  },
  {
   "cell_type": "code",
   "execution_count": 8,
   "id": "recognized-exclusion",
   "metadata": {},
   "outputs": [
    {
     "name": "stdout",
     "output_type": "stream",
     "text": [
      "X_train.shape = (10000, 18362)\n",
      "X_test.shape = (662, 18362)\n"
     ]
    }
   ],
   "source": [
    "vectorizer = CountVectorizer(\n",
    "        lowercase=True, stop_words=None,\n",
    "        max_df=1.0, min_df=1, max_features=None,  binary=True\n",
    "      )\n",
    "X = vectorizer.fit_transform(data_train+data_test).toarray()\n",
    "X_train = X[0:10000, :]\n",
    "X_test = X[10000:, :]\n",
    "feature_names = vectorizer.get_feature_names()\n",
    "print(\"X_train.shape = {}\".format(X_train.shape))\n",
    "print(\"X_test.shape = {}\".format(X_test.shape))"
   ]
  },
  {
   "cell_type": "markdown",
   "id": "silent-stake",
   "metadata": {},
   "source": [
    "Before moving on, we need to get a hint of what these varibles represent"
   ]
  },
  {
   "cell_type": "code",
   "execution_count": 9,
   "id": "broad-girlfriend",
   "metadata": {},
   "outputs": [
    {
     "data": {
      "text/plain": [
       "'simplistic , silly and tedious . '"
      ]
     },
     "execution_count": 9,
     "metadata": {},
     "output_type": "execute_result"
    }
   ],
   "source": [
    "lines_neg[0]"
   ]
  },
  {
   "cell_type": "code",
   "execution_count": 10,
   "id": "frequent-communist",
   "metadata": {},
   "outputs": [
    {
     "data": {
      "text/plain": [
       "(array([  750, 14626, 14643, 16172], dtype=int64),)"
      ]
     },
     "execution_count": 10,
     "metadata": {},
     "output_type": "execute_result"
    }
   ],
   "source": [
    "np.where(X_train[0] == 1)"
   ]
  },
  {
   "cell_type": "code",
   "execution_count": 11,
   "id": "timely-utilization",
   "metadata": {},
   "outputs": [
    {
     "data": {
      "text/plain": [
       "1.0"
      ]
     },
     "execution_count": 11,
     "metadata": {},
     "output_type": "execute_result"
    }
   ],
   "source": [
    "y_train[0]"
   ]
  },
  {
   "cell_type": "markdown",
   "id": "disabled-mounting",
   "metadata": {
    "pycharm": {
     "name": "#%% md\n"
    }
   },
   "source": [
    "As we see, the sentence is being \"encoded\" to a vector of corresponding number; where the\n",
    "number is stored in corresponding key-value pairs. This sentence is classified as <i>negative</i>,\n",
    "which correspond to value of 1."
   ]
  },
  {
   "cell_type": "markdown",
   "id": "computational-boxing",
   "metadata": {},
   "source": [
    "### Bayes Classifier"
   ]
  },
  {
   "cell_type": "code",
   "execution_count": 325,
   "id": "union-nightlife",
   "metadata": {},
   "outputs": [],
   "source": [
    "class MyBayesClassifier():\n",
    "    def __init__(self, smooth=1):\n",
    "        self._smooth = smooth # This is for additive smoothing\n",
    "        self._neg_dict = None\n",
    "        self._pos_dict = None\n",
    "        \n",
    "    def train(self, X, y):\n",
    "        alpha_smooth = self._smooth\n",
    "        cls = np.unique(y)\n",
    "        Ncls, Nfeat = len(cls), X.shape[1] #Ncls: number of classes, Nfeat: number of features.\n",
    "        \n",
    "        # DEPRECATED!! We know that our matrix first 5000 lines are negative. We will construct a dictionary of probaility\n",
    "        \n",
    "        # Array of negative sentences\n",
    "        negative_sentences = X_train[np.where(y_train == 1)]\n",
    "        \n",
    "        # Total word occurences in negative pool\n",
    "        # DEPRECATED!! total_neg_word = np.count_nonzero(X_train[0:5000])\n",
    "        \n",
    "        total_neg_word = np.count_nonzero(negative_sentences)\n",
    "        \n",
    "        # Occurence of each unique word in negative pool\n",
    "        # DEPRECATED!! unique, counts = np.unique(np.where(X_train[0:5000] == 1), return_counts=True)\n",
    "        # DEPRECATED!! unique, counts = np.unique(np.where(negative_sentences == 1), return_counts=True)\n",
    "        \n",
    "        counts = negative_sentences.sum(axis=0)\n",
    "        dummy = list(range(0, len(counts)))\n",
    "        \n",
    "        # Calculate the probaility of occurence with smoothing:\n",
    "        prob = (counts + self._smooth)/(total_neg_word + self._smooth*len(counts))\n",
    "        \n",
    "        self._neg_dict = dict(zip(dummy, prob))\n",
    "        \n",
    "        # Now we do the same for positive\n",
    "        \n",
    "        # Array of positive sentences\n",
    "        positive_sentences = X_train[np.where(y_train == 0)]\n",
    "        \n",
    "        # DEPRECATED!! total_pos_word = np.count_nonzero(X_train[5000:])\n",
    "        total_pos_word = np.count_nonzero(positive_sentences)\n",
    "        \n",
    "        counts = positive_sentences.sum(axis=0)\n",
    "        \n",
    "        prob = (counts + self._smooth)/(total_pos_word + self._smooth*len(counts))\n",
    "        \n",
    "        self._pos_dict = dict(zip(dummy, prob))\n",
    "        \n",
    "    def predict(self, X):\n",
    "        '''\n",
    "        This function has to return a numpy array of shape X.shape[0] (i.e. of shape \"number of testing examples\")\n",
    "        '''\n",
    "        '''\n",
    "          =====================\n",
    "           YOUR CODE GOES HERE\n",
    "          =====================\n",
    "        '''\n",
    "        if (self._pos_dict is None or self._neg_dict is None):\n",
    "            raise Exception(\"Model is not trained yet!\")\n",
    "        \n",
    "        # To predict, we use the Bayes formula: P(C) x P(x0|C) x ... x P(xn|C) = some_ratio x log(P(C)) x ... , which\n",
    "        # can be transformed further to log(P(C)) + sum(0 -> n)(f x log (P(xi|C))) where f is the occurence of the word in that\n",
    "        # sentence, P(xi|C) is the word conditional probability.\n",
    "        \n",
    "        # First, analyse the \"bag of word\" of each sentence. which means find the word \"encode\" with corresponding frequency in\n",
    "        # a sentence\n",
    "        \n",
    "        def getBagOWord(line):\n",
    "            unique, counts = np.unique(np.where(line == 1), return_counts=True)\n",
    "            bag_o_word = dict(zip(unique, counts))\n",
    "            return bag_o_word\n",
    "        \n",
    "        def getPred(bag_o_word):\n",
    "            # Find negative \"score\"\n",
    "            neg_score = math.log10(0.5) + sum((bag_o_word[word] * math.log10(self._neg_dict[word])) for word in bag_o_word)\n",
    "\n",
    "            # Find positive \"score\"\n",
    "            pos_score = math.log10(0.5) + sum((bag_o_word[word] * math.log10(self._pos_dict[word])) for word in bag_o_word)\n",
    "\n",
    "            # Return whichever has higher score\n",
    "            if neg_score > pos_score:\n",
    "                return 1\n",
    "            else:\n",
    "                return 0\n",
    "            \n",
    "        # Apply to the array\n",
    "        \n",
    "        func = lambda t : getPred(getBagOWord(t))\n",
    "        result = np.array([func(line) for line in X])\n",
    "        \n",
    "        return result"
   ]
  },
  {
   "cell_type": "markdown",
   "id": "average-atlanta",
   "metadata": {},
   "source": [
    "Now we will train and test our model"
   ]
  },
  {
   "cell_type": "code",
   "execution_count": 326,
   "id": "moderate-justice",
   "metadata": {},
   "outputs": [],
   "source": [
    "model = MyBayesClassifier()"
   ]
  },
  {
   "cell_type": "code",
   "execution_count": 327,
   "id": "spread-enzyme",
   "metadata": {},
   "outputs": [],
   "source": [
    "model.train(X_train, y_train)"
   ]
  },
  {
   "cell_type": "code",
   "execution_count": 328,
   "id": "photographic-glasgow",
   "metadata": {},
   "outputs": [],
   "source": [
    "res = model.predict(X_test)"
   ]
  },
  {
   "cell_type": "code",
   "execution_count": 332,
   "id": "republican-ballot",
   "metadata": {},
   "outputs": [
    {
     "name": "stdout",
     "output_type": "stream",
     "text": [
      "The accuracy of the prediction is 0.8051359516616314\n"
     ]
    }
   ],
   "source": [
    "print(\"The accuracy of the prediction is\", accuracy_score(y_test, res))"
   ]
  },
  {
   "cell_type": "markdown",
   "id": "promising-chancellor",
   "metadata": {},
   "source": [
    "Recall the result above is when smoothing coefficient alpha = 1, called Laplace smoothing. Now we would test the model for different value of alpha "
   ]
  },
  {
   "cell_type": "markdown",
   "id": "packed-market",
   "metadata": {},
   "source": [
    "<h4>Smoothing sweep</h4>"
   ]
  },
  {
   "cell_type": "markdown",
   "id": "fixed-ethernet",
   "metadata": {},
   "source": [
    "In this part, we will analyze the effect of smoothing coefficient and the accuracy of the model"
   ]
  },
  {
   "cell_type": "code",
   "execution_count": 336,
   "id": "institutional-immigration",
   "metadata": {},
   "outputs": [],
   "source": [
    "coeff_range = np.arange(0.1, 3, 0.1).tolist()"
   ]
  },
  {
   "cell_type": "markdown",
   "id": "unsigned-growth",
   "metadata": {},
   "source": [
    "Sweeping"
   ]
  },
  {
   "cell_type": "code",
   "execution_count": 357,
   "id": "surface-valuable",
   "metadata": {},
   "outputs": [],
   "source": [
    "acc_output = list()\n",
    "for i in coeff_range:\n",
    "    model = MyBayesClassifier(i)\n",
    "    model.train(X_train, y_train)\n",
    "    res = model.predict(X_test)\n",
    "    acc_output.append(accuracy_score(y_test, res))"
   ]
  },
  {
   "cell_type": "code",
   "execution_count": 355,
   "id": "heated-military",
   "metadata": {},
   "outputs": [
    {
     "data": {
      "text/plain": [
       "<matplotlib.collections.PathCollection at 0x165bb5600a0>"
      ]
     },
     "execution_count": 355,
     "metadata": {},
     "output_type": "execute_result"
    },
    {
     "data": {
      "image/png": "[encoded data removed]",
      "text/plain": [
       "<Figure size 432x288 with 1 Axes>"
      ]
     },
     "metadata": {
      "needs_background": "light"
     },
     "output_type": "display_data"
    }
   ],
   "source": [
    "plt.plot(coeff_range, acc_output)\n",
    "index = np.argmax(acc_output)\n",
    "plt.scatter(coeff_range[index], acc_output[index], color='#ee0000')"
   ]
  },
  {
   "cell_type": "code",
   "execution_count": 356,
   "id": "julian-stamp",
   "metadata": {},
   "outputs": [
    {
     "name": "stdout",
     "output_type": "stream",
     "text": [
      "The maximum accuracy achieved at alpha = 1.0 with accuarcy of 0.8051359516616314\n"
     ]
    }
   ],
   "source": [
    "print(\"The maximum accuracy achieved at alpha =\", coeff_range[index] , \"with accuarcy of\", acc_output[index])"
   ]
  },
  {
   "cell_type": "code",
   "execution_count": 169,
   "id": "flexible-application",
   "metadata": {},
   "outputs": [
    {
     "data": {
      "text/plain": [
       "array(<generator object MyBayesClassifier.predict.<locals>.<genexpr> at 0x00000165BB052190>,\n",
       "      dtype=object)"
      ]
     },
     "execution_count": 169,
     "metadata": {},
     "output_type": "execute_result"
    }
   ],
   "source": []
  },
  {
   "cell_type": "code",
   "execution_count": null,
   "id": "floppy-bacteria",
   "metadata": {},
   "outputs": [],
   "source": []
  }
 ],
 "metadata": {
  "kernelspec": {
   "display_name": "Python 3",
   "language": "python",
   "name": "python3"
  },
  "language_info": {
   "codemirror_mode": {
    "name": "ipython",
    "version": 3
   },
   "file_extension": ".py",
   "mimetype": "text/x-python",
   "name": "python",
   "nbconvert_exporter": "python",
   "pygments_lexer": "ipython3",
   "version": "3.9.1"
  },
  "toc-autonumbering": true
 },
 "nbformat": 4,
 "nbformat_minor": 5
}
