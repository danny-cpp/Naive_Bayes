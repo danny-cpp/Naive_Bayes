{
 "cells": [
  {
   "cell_type": "markdown",
   "id": "architectural-dodge",
   "metadata": {
    "pycharm": {
     "name": "#%% md\n"
    }
   },
   "source": [
    "<h4 align=\"center\">CMPUT 466 &mdash; Machine Learning</h4>\n",
    "\n",
    "<h1 align=\"center\">NAIVE BAYES CLASSIFICATION IMPLEMENTATION</h1>\n",
    "\n",
    "<h3 align=\"center\">Danh Nguyen</h3>"
   ]
  },
  {
   "cell_type": "code",
   "execution_count": 73,
   "id": "hazardous-skill",
   "metadata": {},
   "outputs": [],
   "source": [
    "import numpy as np\n",
    "from sklearn.feature_extraction.text import CountVectorizer\n",
    "import time\n",
    "import matplotlib.pyplot as plt\n",
    "from sklearn.metrics import confusion_matrix\n",
    "import os\n",
    "import math"
   ]
  },
  {
   "cell_type": "markdown",
   "id": "standard-queens",
   "metadata": {
    "pycharm": {
     "name": "#%% md\n"
    }
   },
   "source": [
    "<h4>1. Data processing</h4>"
   ]
  },
  {
   "cell_type": "markdown",
   "id": "quarterly-bones",
   "metadata": {},
   "source": [
    "Importing data from GitHub"
   ]
  },
  {
   "cell_type": "code",
   "execution_count": 2,
   "id": "light-coordinate",
   "metadata": {},
   "outputs": [],
   "source": [
    "#os.system(\"git clone https://github.com/pseprivamirakbarnejad/cmput466566.git\") // Prevent multiple overwrite, uncomment to download"
   ]
  },
  {
   "cell_type": "markdown",
   "id": "tender-premium",
   "metadata": {},
   "source": [
    "Reading data"
   ]
  },
  {
   "cell_type": "code",
   "execution_count": 3,
   "id": "outdoor-savings",
   "metadata": {},
   "outputs": [],
   "source": [
    "with open('cmput466566/Assignment1/rt-polarity_utf8.neg', 'r') as f:\n",
    "    lines_neg = f.read().splitlines()\n",
    "\n",
    "with open('cmput466566/Assignment1/rt-polarity_utf8.pos', 'r') as f:\n",
    "    lines_pos = f.read().splitlines()"
   ]
  },
  {
   "cell_type": "markdown",
   "id": "hazardous-artist",
   "metadata": {},
   "source": [
    "Get a glimpse of data"
   ]
  },
  {
   "cell_type": "code",
   "execution_count": 4,
   "id": "found-technology",
   "metadata": {},
   "outputs": [
    {
     "data": {
      "text/plain": [
       "['simplistic , silly and tedious . ',\n",
       " \"it's so laddish and juvenile , only teenage boys could possibly find it funny . \",\n",
       " 'exploitative and largely devoid of the depth or sophistication that would make watching such a graphic treatment of the crimes bearable . ',\n",
       " '[garbus] discards the potential for pathological study , exhuming instead , the skewed melodrama of the circumstantial situation . ',\n",
       " 'a visually flashy but narratively opaque and emotionally vapid exercise in style and mystification . ']"
      ]
     },
     "execution_count": 4,
     "metadata": {},
     "output_type": "execute_result"
    }
   ],
   "source": [
    "lines_neg[0:5]"
   ]
  },
  {
   "cell_type": "markdown",
   "id": "bizarre-fabric",
   "metadata": {},
   "source": [
    "Train-Test split"
   ]
  },
  {
   "cell_type": "code",
   "execution_count": 5,
   "id": "suspended-glasgow",
   "metadata": {},
   "outputs": [],
   "source": [
    "data_train = lines_neg[0:5000] + lines_pos[0:5000]\n",
    "data_test = lines_neg[5000:] + lines_pos[5000:]"
   ]
  },
  {
   "cell_type": "markdown",
   "id": "monetary-egypt",
   "metadata": {},
   "source": [
    "Preparing the output vectors"
   ]
  },
  {
   "cell_type": "code",
   "execution_count": 6,
   "id": "informational-healthcare",
   "metadata": {},
   "outputs": [],
   "source": [
    "y_train = np.append(np.ones((1,5000)), (np.zeros((1,5000))))\n",
    "y_test = np.append(np.ones((1, len(lines_neg[5000:]))),\\\n",
    "                   np.zeros((1,len(lines_pos[5000:]))))"
   ]
  },
  {
   "cell_type": "code",
   "execution_count": 7,
   "id": "organized-soviet",
   "metadata": {},
   "outputs": [
    {
     "name": "stdout",
     "output_type": "stream",
     "text": [
      "len(lines_pos) = 5331\n",
      "len(lines_neg) = 5331\n",
      "len(data_set) = 662\n",
      "len(data_train) = 10000\n"
     ]
    }
   ],
   "source": [
    "print(\"len(lines_pos) = {}\".format(len(lines_pos)))\n",
    "print(\"len(lines_neg) = {}\".format(len(lines_neg)))\n",
    "\n",
    "print(\"len(data_set) = {}\".format(len(data_test)))\n",
    "print(\"len(data_train) = {}\".format(len(data_train)))"
   ]
  },
  {
   "cell_type": "markdown",
   "id": "japanese-cleveland",
   "metadata": {},
   "source": [
    "Vectorizing data"
   ]
  },
  {
   "cell_type": "code",
   "execution_count": 8,
   "id": "exposed-third",
   "metadata": {},
   "outputs": [
    {
     "name": "stdout",
     "output_type": "stream",
     "text": [
      "X_train.shape = (10000, 18362)\n",
      "X_test.shape = (662, 18362)\n"
     ]
    }
   ],
   "source": [
    "vectorizer = CountVectorizer(\n",
    "        lowercase=True, stop_words=None,\n",
    "        max_df=1.0, min_df=1, max_features=None,  binary=True\n",
    "      )\n",
    "X = vectorizer.fit_transform(data_train+data_test).toarray()\n",
    "X_train = X[0:10000, :]\n",
    "X_test = X[10000:, :]\n",
    "feature_names = vectorizer.get_feature_names()\n",
    "print(\"X_train.shape = {}\".format(X_train.shape))\n",
    "print(\"X_test.shape = {}\".format(X_test.shape))"
   ]
  },
  {
   "cell_type": "markdown",
   "id": "vocal-realtor",
   "metadata": {},
   "source": [
    "Before moving on, we need to get a hint of what these varibles represent"
   ]
  },
  {
   "cell_type": "code",
   "execution_count": 9,
   "id": "mechanical-crack",
   "metadata": {},
   "outputs": [
    {
     "data": {
      "text/plain": [
       "'simplistic , silly and tedious . '"
      ]
     },
     "execution_count": 9,
     "metadata": {},
     "output_type": "execute_result"
    }
   ],
   "source": [
    "lines_neg[0]"
   ]
  },
  {
   "cell_type": "code",
   "execution_count": 10,
   "id": "exceptional-learning",
   "metadata": {},
   "outputs": [
    {
     "data": {
      "text/plain": [
       "(array([  750, 14626, 14643, 16172], dtype=int64),)"
      ]
     },
     "execution_count": 10,
     "metadata": {},
     "output_type": "execute_result"
    }
   ],
   "source": [
    "np.where(X_train[0] == 1)"
   ]
  },
  {
   "cell_type": "code",
   "execution_count": 11,
   "id": "parallel-assault",
   "metadata": {},
   "outputs": [
    {
     "data": {
      "text/plain": [
       "1.0"
      ]
     },
     "execution_count": 11,
     "metadata": {},
     "output_type": "execute_result"
    }
   ],
   "source": [
    "y_train[0]"
   ]
  },
  {
   "cell_type": "markdown",
   "id": "celtic-theology",
   "metadata": {
    "pycharm": {
     "name": "#%% md\n"
    }
   },
   "source": [
    "As we see, the sentence is being \"encoded\" to a vector of corresponding number; where the\n",
    "number is stored in corresponding key-value pairs. This sentence is classified as <i>negative</i>,\n",
    "which correspond to value of 1."
   ]
  },
  {
   "cell_type": "markdown",
   "id": "architectural-cleaners",
   "metadata": {},
   "source": [
    "### Bayes Classifier"
   ]
  },
  {
   "cell_type": "code",
   "execution_count": 100,
   "id": "competent-speaker",
   "metadata": {},
   "outputs": [],
   "source": [
    "class MyBayesClassifier():\n",
    "    def __init__(self, smooth=1):\n",
    "        self._smooth = smooth # This is for additive smoothing\n",
    "        self._neg_dict = dict()\n",
    "        self._pos_dict = dict()\n",
    "\n",
    "    def train(self, X, y):\n",
    "        alpha_smooth = self._smooth\n",
    "        cls = np.unique(y)\n",
    "        Ncls, Nfeat = len(cls), X.shape[1] #Ncls: number of classes, Nfeat: number of features.\n",
    "        \n",
    "        # We know that our matrix first 5000 lines are negative. We will construct a dictionary of probaility\n",
    "        \n",
    "        # Total word occurences in negative pool\n",
    "        total_neg_word = np.count_nonzero(X_train[0:5000])\n",
    "        \n",
    "        # Occurence of each unique word in negative pool\n",
    "        unique, counts = np.unique(np.where(X_train[0:5000] == 1), return_counts=True)\n",
    "        \n",
    "        # Calculate the probaility of occurence with smoothing:\n",
    "        prob = (counts + self._smooth)/(total_neg_word + self._smooth*len(unique))\n",
    "        \n",
    "        neg_dict = dict(zip(unique, prob))\n",
    "        \n",
    "        # Now we do the same for positive\n",
    "        total_pos_word = np.count_nonzero(X_train[5000:])\n",
    "        unique, counts = np.unique(np.where(X_train[5000:] == 1), return_counts=True)\n",
    "        prob = (counts + self._smooth)/(total_pos_word + self._smooth*len(unique))\n",
    "        \n",
    "        pos_dict = dict(zip(unique, prob))\n",
    "        \n",
    "    def predict(self, X):\n",
    "        '''\n",
    "        This function has to return a numpy array of shape X.shape[0] (i.e. of shape \"number of testing examples\")\n",
    "        '''\n",
    "        '''\n",
    "          =====================\n",
    "           YOUR CODE GOES HERE\n",
    "          =====================\n",
    "        '''\n",
    "        \n",
    "        # To predict, we use the Bayes formula: P(C) x P(x0|C) x ... x P(xn|C) = some_ratio x log(P(C)) x ... , which\n",
    "        # can be transformed further to log(P(C)) + sum(0 -> n)(f x log (P(xi|C))) where f is the occurence of the word in that\n",
    "        # sentence, P(xi|C) is the word conditional probability.\n",
    "        \n",
    "        # First, analyse the \"bag of word\" of each sentence. which means find the word \"encode\" with corresponding frequency in\n",
    "        # a sentence\n",
    "        \n",
    "        unique, counts = np.unique(np.where(X == 1), return_counts=True)\n",
    "        bag_o_word = dict(zip(unique, counts))\n",
    "        \n",
    "        # Find negative \"score\"\n",
    "        neg_score = math.log10(0.5) + sum((bag_o_word[word] * math.log10(self._neg_dict[word])) for word in bag_o_word)\n",
    "        \n",
    "        # Find positive \"score\"\n",
    "        pos_score = math.log10(0.5) + sum((bag_o_word[word] * math.log10(self._pos_dict[word])) for word in bag_o_word)\n",
    "        \n",
    "        print(neg_score, pos_score)\n",
    "        \n",
    "        # Return whichever has higher score\n",
    "        if neg_score > pos_score:\n",
    "            return 1\n",
    "        else:\n",
    "            return 0"
   ]
  },
  {
   "cell_type": "code",
   "execution_count": 101,
   "id": "adjustable-stationery",
   "metadata": {},
   "outputs": [],
   "source": [
    "model = MyBayesClassifier()"
   ]
  },
  {
   "cell_type": "code",
   "execution_count": 74,
   "id": "supported-dakota",
   "metadata": {},
   "outputs": [],
   "source": [
    " # Total word occurences in negative pool\n",
    "total_neg_word = np.count_nonzero(X_train[0:5000])\n",
    "\n",
    "# Occurence of each unique word in negative pool\n",
    "unique, counts = np.unique(np.where(X_train[0:5000] == 1), return_counts=True)\n",
    "\n",
    "# Calculate the probaility of occurence with smoothing:\n",
    "prob = (counts + 1)/(total_neg_word + 1*len(unique))\n",
    "\n",
    "neg_dict = dict(zip(unique, prob))"
   ]
  },
  {
   "cell_type": "code",
   "execution_count": 102,
   "id": "surface-burst",
   "metadata": {},
   "outputs": [],
   "source": [
    "model.train(X_train, y_train)"
   ]
  },
  {
   "cell_type": "code",
   "execution_count": 103,
   "id": "organic-sewing",
   "metadata": {},
   "outputs": [
    {
     "ename": "KeyError",
     "evalue": "0",
     "output_type": "error",
     "traceback": [
      "\u001b[1;31m---------------------------------------------------------------------------\u001b[0m",
      "\u001b[1;31mKeyError\u001b[0m                                  Traceback (most recent call last)",
      "\u001b[1;32m<ipython-input-103-900e537fef79>\u001b[0m in \u001b[0;36m<module>\u001b[1;34m\u001b[0m\n\u001b[1;32m----> 1\u001b[1;33m \u001b[0mmodel\u001b[0m\u001b[1;33m.\u001b[0m\u001b[0mpredict\u001b[0m\u001b[1;33m(\u001b[0m\u001b[0my_test\u001b[0m\u001b[1;33m)\u001b[0m\u001b[1;33m\u001b[0m\u001b[1;33m\u001b[0m\u001b[0m\n\u001b[0m",
      "\u001b[1;32m<ipython-input-100-e4f4d7f750ed>\u001b[0m in \u001b[0;36mpredict\u001b[1;34m(self, X)\u001b[0m\n\u001b[0;32m     51\u001b[0m \u001b[1;33m\u001b[0m\u001b[0m\n\u001b[0;32m     52\u001b[0m         \u001b[1;31m# Find negative \"score\"\u001b[0m\u001b[1;33m\u001b[0m\u001b[1;33m\u001b[0m\u001b[1;33m\u001b[0m\u001b[0m\n\u001b[1;32m---> 53\u001b[1;33m         \u001b[0mneg_score\u001b[0m \u001b[1;33m=\u001b[0m \u001b[0mmath\u001b[0m\u001b[1;33m.\u001b[0m\u001b[0mlog10\u001b[0m\u001b[1;33m(\u001b[0m\u001b[1;36m0.5\u001b[0m\u001b[1;33m)\u001b[0m \u001b[1;33m+\u001b[0m \u001b[0msum\u001b[0m\u001b[1;33m(\u001b[0m\u001b[1;33m(\u001b[0m\u001b[0mbag_o_word\u001b[0m\u001b[1;33m[\u001b[0m\u001b[0mword\u001b[0m\u001b[1;33m]\u001b[0m \u001b[1;33m*\u001b[0m \u001b[0mmath\u001b[0m\u001b[1;33m.\u001b[0m\u001b[0mlog10\u001b[0m\u001b[1;33m(\u001b[0m\u001b[0mself\u001b[0m\u001b[1;33m.\u001b[0m\u001b[0m_neg_dict\u001b[0m\u001b[1;33m[\u001b[0m\u001b[0mword\u001b[0m\u001b[1;33m]\u001b[0m\u001b[1;33m)\u001b[0m\u001b[1;33m)\u001b[0m \u001b[1;32mfor\u001b[0m \u001b[0mword\u001b[0m \u001b[1;32min\u001b[0m \u001b[0mbag_o_word\u001b[0m\u001b[1;33m)\u001b[0m\u001b[1;33m\u001b[0m\u001b[1;33m\u001b[0m\u001b[0m\n\u001b[0m\u001b[0;32m     54\u001b[0m \u001b[1;33m\u001b[0m\u001b[0m\n\u001b[0;32m     55\u001b[0m         \u001b[1;31m# Find positive \"score\"\u001b[0m\u001b[1;33m\u001b[0m\u001b[1;33m\u001b[0m\u001b[1;33m\u001b[0m\u001b[0m\n",
      "\u001b[1;32m<ipython-input-100-e4f4d7f750ed>\u001b[0m in \u001b[0;36m<genexpr>\u001b[1;34m(.0)\u001b[0m\n\u001b[0;32m     51\u001b[0m \u001b[1;33m\u001b[0m\u001b[0m\n\u001b[0;32m     52\u001b[0m         \u001b[1;31m# Find negative \"score\"\u001b[0m\u001b[1;33m\u001b[0m\u001b[1;33m\u001b[0m\u001b[1;33m\u001b[0m\u001b[0m\n\u001b[1;32m---> 53\u001b[1;33m         \u001b[0mneg_score\u001b[0m \u001b[1;33m=\u001b[0m \u001b[0mmath\u001b[0m\u001b[1;33m.\u001b[0m\u001b[0mlog10\u001b[0m\u001b[1;33m(\u001b[0m\u001b[1;36m0.5\u001b[0m\u001b[1;33m)\u001b[0m \u001b[1;33m+\u001b[0m \u001b[0msum\u001b[0m\u001b[1;33m(\u001b[0m\u001b[1;33m(\u001b[0m\u001b[0mbag_o_word\u001b[0m\u001b[1;33m[\u001b[0m\u001b[0mword\u001b[0m\u001b[1;33m]\u001b[0m \u001b[1;33m*\u001b[0m \u001b[0mmath\u001b[0m\u001b[1;33m.\u001b[0m\u001b[0mlog10\u001b[0m\u001b[1;33m(\u001b[0m\u001b[0mself\u001b[0m\u001b[1;33m.\u001b[0m\u001b[0m_neg_dict\u001b[0m\u001b[1;33m[\u001b[0m\u001b[0mword\u001b[0m\u001b[1;33m]\u001b[0m\u001b[1;33m)\u001b[0m\u001b[1;33m)\u001b[0m \u001b[1;32mfor\u001b[0m \u001b[0mword\u001b[0m \u001b[1;32min\u001b[0m \u001b[0mbag_o_word\u001b[0m\u001b[1;33m)\u001b[0m\u001b[1;33m\u001b[0m\u001b[1;33m\u001b[0m\u001b[0m\n\u001b[0m\u001b[0;32m     54\u001b[0m \u001b[1;33m\u001b[0m\u001b[0m\n\u001b[0;32m     55\u001b[0m         \u001b[1;31m# Find positive \"score\"\u001b[0m\u001b[1;33m\u001b[0m\u001b[1;33m\u001b[0m\u001b[1;33m\u001b[0m\u001b[0m\n",
      "\u001b[1;31mKeyError\u001b[0m: 0"
     ]
    }
   ],
   "source": [
    "model.predict(y_test)"
   ]
  },
  {
   "cell_type": "code",
   "execution_count": null,
   "id": "interim-prefix",
   "metadata": {},
   "outputs": [],
   "source": []
  }
 ],
 "metadata": {
  "kernelspec": {
   "display_name": "Python 3",
   "language": "python",
   "name": "python3"
  },
  "language_info": {
   "codemirror_mode": {
    "name": "ipython",
    "version": 3
   },
   "file_extension": ".py",
   "mimetype": "text/x-python",
   "name": "python",
   "nbconvert_exporter": "python",
   "pygments_lexer": "ipython3",
   "version": "3.9.1"
  },
  "toc-autonumbering": true
 },
 "nbformat": 4,
 "nbformat_minor": 5
}
