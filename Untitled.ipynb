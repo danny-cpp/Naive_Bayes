{
 "cells": [
  {
   "cell_type": "markdown",
   "id": "wicked-biodiversity",
   "metadata": {
    "pycharm": {
     "name": "#%% md\n"
    }
   },
   "source": [
    "<h4 align=\"center\">CMPUT 466 &mdash; Machine Learning</h4>\n",
    "\n",
    "<h1 align=\"center\">NAIVE BAYES CLASSIFICATION IMPLEMENTATION</h1>\n",
    "\n",
    "<h3 align=\"center\">Danh Nguyen</h3>"
   ]
  },
  {
   "cell_type": "code",
   "execution_count": null,
   "id": "legitimate-oasis",
   "metadata": {},
   "outputs": [],
   "source": [
    "import numpy as np\n",
    "from sklearn.feature_extraction.text import CountVectorizer\n",
    "import time\n",
    "import matplotlib.pyplot as plt\n",
    "from sklearn.metrics import confusion_matrix\n",
    "import os\n"
   ]
  },
  {
   "cell_type": "markdown",
   "id": "authentic-broadway",
   "metadata": {
    "pycharm": {
     "name": "#%% md\n"
    }
   },
   "source": [
    "<h4>1. Data processing</h4>"
   ]
  },
  {
   "cell_type": "markdown",
   "id": "norwegian-guest",
   "metadata": {},
   "source": [
    "Importing data from GitHub"
   ]
  },
  {
   "cell_type": "code",
   "execution_count": 2,
   "id": "medieval-poetry",
   "metadata": {},
   "outputs": [],
   "source": [
    "#os.system(\"git clone https://github.com/pseprivamirakbarnejad/cmput466566.git\") // Prevent multiple overwrite, uncomment to download"
   ]
  },
  {
   "cell_type": "markdown",
   "id": "adaptive-cartoon",
   "metadata": {},
   "source": [
    "Reading data"
   ]
  },
  {
   "cell_type": "code",
   "execution_count": 3,
   "id": "assured-sentence",
   "metadata": {},
   "outputs": [],
   "source": [
    "with open('cmput466566/Assignment1/rt-polarity_utf8.neg', 'r') as f:\n",
    "    lines_neg = f.read().splitlines()\n",
    "\n",
    "with open('cmput466566/Assignment1/rt-polarity_utf8.pos', 'r') as f:\n",
    "    lines_pos = f.read().splitlines()"
   ]
  },
  {
   "cell_type": "markdown",
   "id": "minor-magnitude",
   "metadata": {},
   "source": [
    "Get a glimpse of data"
   ]
  },
  {
   "cell_type": "code",
   "execution_count": 4,
   "id": "given-endorsement",
   "metadata": {},
   "outputs": [
    {
     "data": {
      "text/plain": [
       "['simplistic , silly and tedious . ',\n",
       " \"it's so laddish and juvenile , only teenage boys could possibly find it funny . \",\n",
       " 'exploitative and largely devoid of the depth or sophistication that would make watching such a graphic treatment of the crimes bearable . ',\n",
       " '[garbus] discards the potential for pathological study , exhuming instead , the skewed melodrama of the circumstantial situation . ',\n",
       " 'a visually flashy but narratively opaque and emotionally vapid exercise in style and mystification . ']"
      ]
     },
     "execution_count": 4,
     "metadata": {},
     "output_type": "execute_result"
    }
   ],
   "source": [
    "lines_neg[0:5]"
   ]
  },
  {
   "cell_type": "markdown",
   "id": "banned-jordan",
   "metadata": {},
   "source": [
    "Train-Test split"
   ]
  },
  {
   "cell_type": "code",
   "execution_count": 5,
   "id": "special-scanner",
   "metadata": {},
   "outputs": [],
   "source": [
    "data_train = lines_neg[0:5000] + lines_pos[0:5000]\n",
    "data_test = lines_neg[5000:] + lines_pos[5000:]"
   ]
  },
  {
   "cell_type": "markdown",
   "id": "referenced-azerbaijan",
   "metadata": {},
   "source": [
    "Preparing the output vectors"
   ]
  },
  {
   "cell_type": "code",
   "execution_count": 6,
   "id": "wicked-reply",
   "metadata": {},
   "outputs": [],
   "source": [
    "y_train = np.append(np.ones((1,5000)), (np.zeros((1,5000))))\n",
    "y_test = np.append(np.ones((1, len(lines_neg[5000:]))),\\\n",
    "                   np.zeros((1,len(lines_pos[5000:]))))"
   ]
  },
  {
   "cell_type": "code",
   "execution_count": 7,
   "id": "happy-springer",
   "metadata": {},
   "outputs": [
    {
     "name": "stdout",
     "output_type": "stream",
     "text": [
      "len(lines_pos) = 5331\n",
      "len(lines_neg) = 5331\n",
      "len(data_set) = 662\n",
      "len(data_train) = 10000\n"
     ]
    }
   ],
   "source": [
    "print(\"len(lines_pos) = {}\".format(len(lines_pos)))\n",
    "print(\"len(lines_neg) = {}\".format(len(lines_neg)))\n",
    "\n",
    "print(\"len(data_set) = {}\".format(len(data_test)))\n",
    "print(\"len(data_train) = {}\".format(len(data_train)))"
   ]
  },
  {
   "cell_type": "markdown",
   "id": "statistical-norman",
   "metadata": {},
   "source": [
    "Vectorizing data"
   ]
  },
  {
   "cell_type": "code",
   "execution_count": 8,
   "id": "dependent-amount",
   "metadata": {},
   "outputs": [
    {
     "name": "stdout",
     "output_type": "stream",
     "text": [
      "X_train.shape = (10000, 18362)\n",
      "X_test.shape = (662, 18362)\n"
     ]
    }
   ],
   "source": [
    "vectorizer = CountVectorizer(\n",
    "        lowercase=True, stop_words=None,\n",
    "        max_df=1.0, min_df=1, max_features=None,  binary=True\n",
    "      )\n",
    "X = vectorizer.fit_transform(data_train+data_test).toarray()\n",
    "X_train = X[0:10000, :]\n",
    "X_test = X[10000:, :]\n",
    "feature_names = vectorizer.get_feature_names()\n",
    "print(\"X_train.shape = {}\".format(X_train.shape))\n",
    "print(\"X_test.shape = {}\".format(X_test.shape))"
   ]
  },
  {
   "cell_type": "markdown",
   "id": "vocational-responsibility",
   "metadata": {},
   "source": [
    "Before moving on, we need to get a hint of what these varibles represent"
   ]
  },
  {
   "cell_type": "code",
   "execution_count": 19,
   "id": "armed-virtue",
   "metadata": {},
   "outputs": [
    {
     "data": {
      "text/plain": [
       "'simplistic , silly and tedious . '"
      ]
     },
     "execution_count": 19,
     "metadata": {},
     "output_type": "execute_result"
    }
   ],
   "source": [
    "lines_neg[0]"
   ]
  },
  {
   "cell_type": "code",
   "execution_count": 18,
   "id": "golden-shelter",
   "metadata": {},
   "outputs": [
    {
     "data": {
      "text/plain": [
       "(array([  750, 14626, 14643, 16172], dtype=int64),)"
      ]
     },
     "execution_count": 18,
     "metadata": {},
     "output_type": "execute_result"
    }
   ],
   "source": [
    "np.where(X_train[0] == 1)"
   ]
  },
  {
   "cell_type": "code",
   "execution_count": 20,
   "id": "little-orbit",
   "metadata": {},
   "outputs": [
    {
     "data": {
      "text/plain": [
       "1.0"
      ]
     },
     "execution_count": 20,
     "metadata": {},
     "output_type": "execute_result"
    }
   ],
   "source": [
    "y_train[0]"
   ]
  },
  {
   "cell_type": "markdown",
   "id": "nervous-diversity",
   "metadata": {
    "pycharm": {
     "name": "#%% md\n"
    }
   },
   "source": [
    "As we see, the sentence is being \"encoded\" to a vector of corresponding number; where the\n",
    "number is stored in corresponding key-value pairs. This sentence is classified as <i>negative</i>,\n",
    "which correspond to value of 1."
   ]
  },
  {
   "cell_type": "markdown",
   "id": "delayed-appeal",
   "metadata": {},
   "source": [
    "### Bayes Classifier"
   ]
  },
  {
   "cell_type": "code",
   "execution_count": 10,
   "id": "behind-guatemala",
   "metadata": {},
   "outputs": [],
   "source": [
    "class MyBayesClassifier():\n",
    "    def __init__(self, smooth=1):\n",
    "        self._smooth = smooth # This is for additive smoothing\n",
    "        \n",
    "\n",
    "    def train(self, X, y):\n",
    "        alpha_smooth = self._smooth\n",
    "        cls = np.unique(y)\n",
    "        Ncls, Nfeat = len(cls), X.shape[1] #Ncls: number of classes, Nfeat: number of features.\n",
    "        '''\n",
    "          =====================\n",
    "           YOUR CODE GOES HERE\n",
    "           Here you should create some member variables to store, e.g., p(y) and p(x|y)\n",
    "            so that the function `predict` can use the variables later on.\n",
    "          =====================\n",
    "        '''\n",
    "        \n",
    "        \n",
    "          \n",
    "        \n",
    "    def predict(self, X):\n",
    "        '''\n",
    "        This function has to return a numpy array of shape X.shape[0] (i.e. of shape \"number of testing examples\")\n",
    "        '''\n",
    "        '''\n",
    "          =====================\n",
    "           YOUR CODE GOES HERE\n",
    "          =====================\n",
    "        '''\n",
    "        return pred"
   ]
  },
  {
   "cell_type": "code",
   "execution_count": null,
   "id": "labeled-workshop",
   "metadata": {},
   "outputs": [],
   "source": []
  }
 ],
 "metadata": {
  "kernelspec": {
   "display_name": "Python 3",
   "language": "python",
   "name": "python3"
  },
  "language_info": {
   "codemirror_mode": {
    "name": "ipython",
    "version": 3
   },
   "file_extension": ".py",
   "mimetype": "text/x-python",
   "name": "python",
   "nbconvert_exporter": "python",
   "pygments_lexer": "ipython3",
   "version": "3.9.1"
  },
  "toc-autonumbering": true
 },
 "nbformat": 4,
 "nbformat_minor": 5
}